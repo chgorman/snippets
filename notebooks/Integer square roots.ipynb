{
 "cells": [
  {
   "cell_type": "markdown",
   "metadata": {},
   "source": [
    "# Integer square roots"
   ]
  },
  {
   "cell_type": "markdown",
   "metadata": {},
   "source": [
    "**Problem.** Given a nonnegative integer $n$, find the greatest integer $a$ such that $a^2\\le n$. Call $a$ the **integer square root** of $n$.\n",
    "\n",
    "Less formally, the integer square root of $n$ is simply the integer part of the square root of $n$. For example, if $n = 23$, the square root of $n$ is\n",
    "\n",
    "$$\\sqrt{23} = 4.7958315233127195415974380641626939199967070419041293...$$\n",
    "    \n",
    "so the integer square root of $23$ is $4$."
   ]
  },
  {
   "cell_type": "markdown",
   "metadata": {},
   "source": [
    "## Version 1: use floating-point"
   ]
  },
  {
   "cell_type": "markdown",
   "metadata": {},
   "source": [
    "The following implementation seems obvious, but has some problems."
   ]
  },
  {
   "cell_type": "code",
   "execution_count": 1,
   "metadata": {},
   "outputs": [],
   "source": [
    "import math\n",
    "\n",
    "def isqrt(n):\n",
    "    \"\"\"Integer square root of a positive integer; float-based algorithm.\"\"\"\n",
    "    return int(math.sqrt(n))"
   ]
  },
  {
   "cell_type": "markdown",
   "metadata": {},
   "source": [
    "This is fast and simple, and seems to work well for small integers:"
   ]
  },
  {
   "cell_type": "code",
   "execution_count": 2,
   "metadata": {},
   "outputs": [
    {
     "data": {
      "text/plain": [
       "3"
      ]
     },
     "execution_count": 2,
     "metadata": {},
     "output_type": "execute_result"
    }
   ],
   "source": [
    "isqrt(11)"
   ]
  },
  {
   "cell_type": "code",
   "execution_count": 3,
   "metadata": {},
   "outputs": [
    {
     "data": {
      "text/plain": [
       "5"
      ]
     },
     "execution_count": 3,
     "metadata": {},
     "output_type": "execute_result"
    }
   ],
   "source": [
    "isqrt(25)"
   ]
  },
  {
   "cell_type": "code",
   "execution_count": 4,
   "metadata": {},
   "outputs": [
    {
     "data": {
      "text/plain": [
       "9"
      ]
     },
     "execution_count": 4,
     "metadata": {},
     "output_type": "execute_result"
    }
   ],
   "source": [
    "isqrt(99)"
   ]
  },
  {
   "cell_type": "markdown",
   "metadata": {},
   "source": [
    "But it fails for larger values:"
   ]
  },
  {
   "cell_type": "code",
   "execution_count": 5,
   "metadata": {},
   "outputs": [
    {
     "data": {
      "text/plain": [
       "67108865"
      ]
     },
     "execution_count": 5,
     "metadata": {},
     "output_type": "execute_result"
    }
   ],
   "source": [
    "n = 2**26 + 1\n",
    "isqrt(n*n - 1) # Should be n - 1, or 67108864"
   ]
  },
  {
   "cell_type": "code",
   "execution_count": 6,
   "metadata": {},
   "outputs": [
    {
     "name": "stdout",
     "output_type": "stream",
     "text": [
      "int too large to convert to float\n"
     ]
    }
   ],
   "source": [
    "n = 2**1024\n",
    "try:\n",
    "    isqrt(n)\n",
    "except Exception as e:\n",
    "    print(e)"
   ]
  },
  {
   "cell_type": "markdown",
   "metadata": {},
   "source": [
    "There's a more subtle problem: if `math.sqrt` isn't perfectly correctly rounded, this risks giving bad answers even for small inputs. For example, if `math.sqrt(9)` happens to give `2.9999999999999996` instead of exactly `3.0`, then `isqrt(9)` will give `2` instead of `3`. The chances are extremely good that your implementation of `math.sqrt` _is_ correctly rounded, but there are no guarantees. If you're worried about this, a safer option is:"
   ]
  },
  {
   "cell_type": "code",
   "execution_count": 7,
   "metadata": {},
   "outputs": [],
   "source": [
    "def isqrt(n):\n",
    "    \"\"\" Integer square root via floating-point, more tolerant of numeric errors. \"\"\"\n",
    "    return int(math.sqrt(n + 0.5))"
   ]
  },
  {
   "cell_type": "code",
   "execution_count": 8,
   "metadata": {},
   "outputs": [
    {
     "data": {
      "text/plain": [
       "3"
      ]
     },
     "execution_count": 8,
     "metadata": {},
     "output_type": "execute_result"
    }
   ],
   "source": [
    "isqrt(9)"
   ]
  },
  {
   "cell_type": "markdown",
   "metadata": {},
   "source": [
    "But this still fails for larger values, just like our original function does. If we want a general solution, we need to work harder."
   ]
  },
  {
   "cell_type": "markdown",
   "metadata": {},
   "source": [
    "## Version 2: bisection search"
   ]
  },
  {
   "cell_type": "markdown",
   "metadata": {},
   "source": [
    "We can avoid floating-point entirely and use pure integer arithmetic. The following code uses a simple bisection search to identify the integer square root. To get an initial upper bound, it makes use of the fact that for any positive integer `n`, `n < 2**n.bit_length()`."
   ]
  },
  {
   "cell_type": "code",
   "execution_count": 9,
   "metadata": {},
   "outputs": [],
   "source": [
    "def isqrt(n):\n",
    "    \"\"\" Integer square root via bisection search. \"\"\"\n",
    "    lower = 0\n",
    "    upper = 1 << -(-n.bit_length() // 2)\n",
    "    while upper - lower > 1:\n",
    "        midpoint = (lower + upper) // 2\n",
    "        if midpoint * midpoint <= n:\n",
    "            lower = midpoint\n",
    "        else:\n",
    "            upper = midpoint\n",
    "    return lower    "
   ]
  },
  {
   "cell_type": "markdown",
   "metadata": {},
   "source": [
    "Note: to keep the code simple, we're ignoring the case where `n` is negative. We'll do this throughout this notebook."
   ]
  },
  {
   "cell_type": "markdown",
   "metadata": {},
   "source": [
    "To make sure we haven't messed up, let's run some tests."
   ]
  },
  {
   "cell_type": "code",
   "execution_count": 10,
   "metadata": {},
   "outputs": [],
   "source": [
    "def is_isqrt(n, a):\n",
    "    \"\"\"\n",
    "    True if a is the integer square root of n.\n",
    "    \"\"\"\n",
    "    return a * a <= n < (a + 1) * (a + 1)\n",
    "\n",
    "def test_isqrt():\n",
    "    assert all(is_isqrt(n, isqrt(n)) for n in range(10**6))\n",
    "    assert isqrt(2**1024 - 1) == 2**512 - 1\n",
    "    assert isqrt(2**1024 + 1) == 2**512    "
   ]
  },
  {
   "cell_type": "code",
   "execution_count": 11,
   "metadata": {},
   "outputs": [],
   "source": [
    "test_isqrt()"
   ]
  },
  {
   "cell_type": "markdown",
   "metadata": {},
   "source": [
    "This algorithm is simple, and its correctness is easy to verify. But it's a bit on the slow side when ``n`` gets large. Let's set up some timings. We'll use 1000 different randomly-chosen 1000-digit integers for profiling."
   ]
  },
  {
   "cell_type": "code",
   "execution_count": 12,
   "metadata": {},
   "outputs": [],
   "source": [
    "import random\n",
    "random.seed(56176)\n",
    "profile_values = [random.randrange(10**1000) for _ in range(1000)]\n",
    "\n",
    "def profile_isqrt():\n",
    "    return [isqrt(n) for n in profile_values]"
   ]
  },
  {
   "cell_type": "code",
   "execution_count": 13,
   "metadata": {},
   "outputs": [
    {
     "name": "stdout",
     "output_type": "stream",
     "text": [
      "4.11 s ± 73.1 ms per loop (mean ± std. dev. of 7 runs, 1 loop each)\n"
     ]
    }
   ],
   "source": [
    "%timeit profile_isqrt()"
   ]
  },
  {
   "cell_type": "markdown",
   "metadata": {},
   "source": [
    "Can we do better? Yes. We. Can."
   ]
  },
  {
   "cell_type": "markdown",
   "metadata": {},
   "source": [
    "## Version 3: Newton's method"
   ]
  },
  {
   "cell_type": "markdown",
   "metadata": {},
   "source": [
    "The one-dimensional version of the Newton-Raphson method says that if $f$ is a real-valued function of a real input, and $x_0$ is sufficiently close to a root of $f$, then under some well-behavedness assumptions on $f$ (see below),\n",
    "\n",
    "$$x_1 = x_0 - \\frac{f(x_0)}{f'(x_0)}$$\n",
    "\n",
    "will be a better approximation to the root. Iterating then gives quadratic convergence to the root: the number of valid decimal digits approximately doubles at each step.\n",
    "\n",
    "If $n$ is a positive real number and $f$ is the function given by $f(x) = x^2 - n$, then a root of $f$ is a square root of $n$, convergence is guaranteed from any nonzero starting value, and the formula becomes:\n",
    "\n",
    "$$x_1 = \\frac12 \\left(x_0 + \\frac n{x_0}\\right)$$"
   ]
  },
  {
   "cell_type": "markdown",
   "metadata": {},
   "source": [
    "**Small print.** About those well-behavedness assumptions: it's enough for example that $f$ is twice continuously differentiable in a neighbourhood of the root, and that $f'$ doesn't vanish at the root."
   ]
  },
  {
   "cell_type": "markdown",
   "metadata": {},
   "source": [
    "A variant of this gives an efficient pure-integer algorithm for integer square roots, though getting the termination condition right is delicate."
   ]
  },
  {
   "cell_type": "code",
   "execution_count": 14,
   "metadata": {},
   "outputs": [],
   "source": [
    "def isqrt(n):\n",
    "    \"\"\"\n",
    "    Integer square root, via Newton's algorithm.\n",
    "    \"\"\"\n",
    "    # Need to special-case zero.\n",
    "    if n == 0:\n",
    "        return 0\n",
    "    \n",
    "    # The initial guess must not be less than isqrt(n).\n",
    "    a = 1 << -(-n.bit_length() // 2)\n",
    "    while True:\n",
    "        d = n // a\n",
    "        if d >= a:\n",
    "            return a\n",
    "        a = (a + d) // 2"
   ]
  },
  {
   "cell_type": "markdown",
   "metadata": {},
   "source": [
    "Let's run our tests, and profile as before."
   ]
  },
  {
   "cell_type": "code",
   "execution_count": 15,
   "metadata": {},
   "outputs": [
    {
     "name": "stdout",
     "output_type": "stream",
     "text": [
      "55.6 ms ± 1.35 ms per loop (mean ± std. dev. of 7 runs, 10 loops each)\n"
     ]
    }
   ],
   "source": [
    "test_isqrt()\n",
    "%timeit profile_isqrt()"
   ]
  },
  {
   "cell_type": "markdown",
   "metadata": {},
   "source": [
    "Newton's method roughly doubles the number of accurate bits at each step. So if `isqrt(n)` has `k` bits, the last step might double accuracy from `k//2` bits to `k` bits, while the first few steps double us from `1` bit to `2` bits, or `2` bits to `4` bits of accuracy. But each iteration is being performed at full precision, with a `2*k`-bit by `k`-bit division. That's wasteful during the initial steps.\n",
    "\n",
    "Instead of this, we can gradually increase the working precision as we go, reaching full precision only in the final step. This leads to the following recursive algorithm, still based on Newton's method."
   ]
  },
  {
   "cell_type": "code",
   "execution_count": 16,
   "metadata": {},
   "outputs": [],
   "source": [
    "def isqrt_aux(n, c, s):\n",
    "    \"\"\"\n",
    "    Approximate integer square root of a positive integer.\n",
    "    \n",
    "    On input, c must be floor(log4(n >> s)); that is, one less than\n",
    "    the number of digits in the base-4 expansion of n >> s.\n",
    "\n",
    "    The return value a satisfies (a - 1)**2 < n >> s < (a + 1)**2. In\n",
    "    particular, if n is a perfect square and s == 0, the returned value is\n",
    "    the exact square root of n.\n",
    "    \"\"\"\n",
    "    if not c:\n",
    "        return 1\n",
    "    k = (c - 1) // 2\n",
    "    a = isqrt_aux(n, c // 2, s + 2*k + 2)\n",
    "    return (a << k) + (n >> s+k+2) // a\n",
    "\n",
    "\n",
    "def isqrt(n):\n",
    "    \"\"\"\n",
    "    Integer square root of a nonnegative integer.\n",
    "    \"\"\"\n",
    "    if n == 0:\n",
    "        return 0\n",
    "    a = isqrt_aux(n, (n.bit_length() - 1) // 2, 0)\n",
    "    return a - (a*a > n)"
   ]
  },
  {
   "cell_type": "code",
   "execution_count": 17,
   "metadata": {},
   "outputs": [
    {
     "name": "stdout",
     "output_type": "stream",
     "text": [
      "12 ms ± 381 µs per loop (mean ± std. dev. of 7 runs, 100 loops each)\n"
     ]
    }
   ],
   "source": [
    "test_isqrt()\n",
    "%timeit profile_isqrt()"
   ]
  },
  {
   "cell_type": "markdown",
   "metadata": {},
   "source": [
    "For a slight extra speed boost, if you trust that `math.sqrt` on your system _is_ correctly rounded, and you know that the system uses the standard IEEE 754 binary64 format for its `float`s, then you can use a floating-point approximation once `n` gets small enough, and so terminate the recursion earlier. It's possible to prove that with these assumptions, if `0 < n < 2**106`, then `int(math.sqrt(n))` differs from the true square root of `n` by less than `1.0`. Here's the new `isqrt_aux` definition in that case; we keep the same `isqrt` as before."
   ]
  },
  {
   "cell_type": "code",
   "execution_count": 18,
   "metadata": {},
   "outputs": [],
   "source": [
    "def isqrt_aux(n, c):\n",
    "    \"\"\"\n",
    "    Approximate integer square root of a positive integer.\n",
    "    \n",
    "    On input, c must be floor(log4(n)); that is, one less than\n",
    "    the number of digits in the base-4 expansion of c\n",
    "\n",
    "    The return value a satisfies (a - 1)**2 < n < (a + 1)**2. In\n",
    "    particular, if n is a perfect square, the returned value is\n",
    "    the exact square root of n.\n",
    "    \"\"\"\n",
    "    if c < 53:\n",
    "        return int(math.sqrt(n))\n",
    "    k = (c - 1) // 2\n",
    "    a = isqrt_aux(n >> 2*k + 2, c // 2)\n",
    "    return (a << k) + (n >> k+2) // a\n",
    "\n",
    "def isqrt(n):\n",
    "    \"\"\"\n",
    "    Integer square root of a nonnegative integer.\n",
    "    \"\"\"\n",
    "    if n == 0:\n",
    "        return 0\n",
    "    a = isqrt_aux(n, (n.bit_length() - 1) // 2)\n",
    "    return a - (a*a > n)"
   ]
  },
  {
   "cell_type": "code",
   "execution_count": 19,
   "metadata": {},
   "outputs": [
    {
     "name": "stdout",
     "output_type": "stream",
     "text": [
      "9.86 ms ± 303 µs per loop (mean ± std. dev. of 7 runs, 100 loops each)\n"
     ]
    }
   ],
   "source": [
    "test_isqrt()\n",
    "%timeit profile_isqrt()"
   ]
  },
  {
   "cell_type": "markdown",
   "metadata": {},
   "source": [
    "Here's an iterative version of the above. It scans the bits of `c` from left to right, and performs one big-integer division, one big-integer addition and two big-integer shifts per iteration, plus a final big-integer multiplication and comparison. All other operations are with small integers."
   ]
  },
  {
   "cell_type": "code",
   "execution_count": 20,
   "metadata": {},
   "outputs": [],
   "source": [
    "import operator\n",
    "\n",
    "def isqrt(n):\n",
    "    \"\"\"\n",
    "    Return the largest integer not exceeding the square root of the input.\n",
    "    \"\"\"\n",
    "    n = operator.index(n)\n",
    "\n",
    "    if n < 0:\n",
    "        raise ValueError(\"isqrt() argument must be nonnegative\")\n",
    "    elif n == 0:\n",
    "        return 0\n",
    "\n",
    "    c = (n.bit_length() - 1) // 2\n",
    "    d = 0\n",
    "    a = 1\n",
    "    for s in reversed(range(c.bit_length())):\n",
    "        e = d\n",
    "        d = c >> s\n",
    "        a = (a << d - e - 1) + (n >> 2*c - e - d + 1) // a\n",
    "        # Loop invariant\n",
    "        assert (a-1)**2 < n >> 2*(c - d) < (a+1)**2\n",
    "        \n",
    "    return a - (a*a > n)"
   ]
  },
  {
   "cell_type": "code",
   "execution_count": 21,
   "metadata": {},
   "outputs": [
    {
     "name": "stdout",
     "output_type": "stream",
     "text": [
      "25.1 ms ± 979 µs per loop (mean ± std. dev. of 7 runs, 10 loops each)\n"
     ]
    }
   ],
   "source": [
    "test_isqrt()\n",
    "%timeit profile_isqrt()"
   ]
  },
  {
   "cell_type": "raw",
   "metadata": {},
   "source": [
    "Here's a Cythonized version. It doesn't make a huge difference to speed for our particular profiling run."
   ]
  },
  {
   "cell_type": "code",
   "execution_count": 22,
   "metadata": {},
   "outputs": [],
   "source": [
    "%load_ext cython"
   ]
  },
  {
   "cell_type": "code",
   "execution_count": 23,
   "metadata": {},
   "outputs": [],
   "source": [
    "%%cython\n",
    "\n",
    "cpdef isqrt(n):\n",
    "    \"\"\"\n",
    "    Integer square root of a nonnegative integer.\n",
    "    \"\"\"\n",
    "    cdef Py_ssize_t c, m, d, e\n",
    "    \n",
    "    if not n:\n",
    "        return 0\n",
    "    c = (n.bit_length() - 1) // 2\n",
    "    m = 2 * c\n",
    "\n",
    "    c_bits = [int(b) for b in bin(c).lstrip('0b')]\n",
    "    a, d = 1, 0\n",
    "    for b in c_bits:\n",
    "        e = d\n",
    "        d = 2 * d + b\n",
    "        a = (a << d - 1 - e) + (n >> m - (e + d - 1)) // a\n",
    "    return a - (a*a > n)"
   ]
  },
  {
   "cell_type": "code",
   "execution_count": 24,
   "metadata": {},
   "outputs": [
    {
     "name": "stdout",
     "output_type": "stream",
     "text": [
      "9.54 ms ± 269 µs per loop (mean ± std. dev. of 7 runs, 100 loops each)\n"
     ]
    }
   ],
   "source": [
    "test_isqrt()\n",
    "%timeit profile_isqrt()"
   ]
  },
  {
   "cell_type": "markdown",
   "metadata": {},
   "source": [
    "If we're going to code this up for CPython, we'll likely want a fast path for small integers. Suppose that $2^{62} \\le n < 2^{64}$. Then in the above iterative version, `c` starts at `31`, and unwinding the loop gives the following code."
   ]
  },
  {
   "cell_type": "code",
   "execution_count": 25,
   "metadata": {},
   "outputs": [],
   "source": [
    "def isqrt_small(n):\n",
    "    assert 0 < n < 2**64\n",
    "    # Shift left to make sure we're in range 2**62 <= n < 2**64\n",
    "    c = (64 - n.bit_length()) // 2\n",
    "    n <<= 2*c\n",
    "    \n",
    "    a = 1 + (n >> 62)\n",
    "    a = (a << 1) + (n >> 59) // a\n",
    "    a = (a << 3) + (n >> 53) // a\n",
    "    a = (a << 7) + (n >> 41) // a\n",
    "    a = (a << 15) + (n >> 17) // a\n",
    "    s = a - (a * a - 1 >= n)\n",
    "    \n",
    "    # Shift result back.\n",
    "    return s >> c"
   ]
  },
  {
   "cell_type": "code",
   "execution_count": 26,
   "metadata": {},
   "outputs": [],
   "source": [
    "test_values = [random.randrange(2**62, 2**64) for _ in range(10**6)]\n",
    "for n in test_values:\n",
    "    assert isqrt_small(n) == isqrt(n)"
   ]
  },
  {
   "cell_type": "markdown",
   "metadata": {},
   "source": [
    "There's a potentially annoying corner case in the above that will affect attempts to translate this to C: at the last step, `a` could be `2**32` (but no bigger), in which case `a * a` will overflow in 64-bit integer arithmetic, leading to the comparison of `a * a` with `n` to give the wrong result. But it should be enough to compare `a * a - 1` with `n` instead (using `>=` instead of `>`).\n"
   ]
  },
  {
   "cell_type": "markdown",
   "metadata": {},
   "source": [
    "### Informal proof of correctness"
   ]
  },
  {
   "cell_type": "markdown",
   "metadata": {},
   "source": [
    "It's far from obvious that this recursive square root algorithm is valid. Some of the details are straightforward, like verifying the base case; here we concentrate on the hard part, which is verifying that the desired accuracy is preserved in the recursive step. For convenience, we rewrite the Python expressions in mathematical notation.\n",
    "\n",
    "In the recursive step, we have a positive integer $n$, a positive integer $c = \\left\\lfloor \\log_4(n) \\right\\rfloor$, and a value $k = \\left\\lfloor \\frac{c-1}2\\right\\rfloor$. We call `isqrt_aux(n >> 2*k + 2, c//2)` to get an approximation $a$ to the square root of $\\left\\lfloor\\frac n {4^{k+1}}\\right\\rfloor$. We can assume that the output of the recursive call is accurate, satisfying:\n",
    "\n",
    "$$(a-1)^2 < \\left\\lfloor \\frac n{4^{k+1}}\\right\\rfloor < (a + 1)^2 \\tag1$$\n",
    "\n",
    "and we return a value $d$ defined by\n",
    "\n",
    "$$d = 2^k a + \\left\\lfloor\\frac n{2^{k+2}a}\\right\\rfloor. \\tag2$$\n",
    "\n",
    "We need to show that $d$ is within $1$ of the square root of $n$; i.e., that $(d - 1)^2 < n < (d + 1)^2$."
   ]
  },
  {
   "cell_type": "markdown",
   "metadata": {},
   "source": [
    "Since $(a+1)^2$ is an integer, we can remove the floor brackets in (1) to get:\n",
    "\n",
    "$$(a-1)^2 < \\frac n{4^{k+1}} < (a + 1)^2. \\tag3$$"
   ]
  },
  {
   "cell_type": "markdown",
   "metadata": {},
   "source": [
    "Taking square roots in (3), noting that $a$ cannot be zero, so we must have $a \\ge 1$, and rearranging gives\n",
    "\n",
    "$$ \\left|\\, 2^{k+1}a - \\sqrt n\\, \\right| < 2^{k+1}. \\tag4$$\n"
   ]
  },
  {
   "cell_type": "markdown",
   "metadata": {},
   "source": [
    "Now squaring both sides and dividing by $2^{k+2} a$ gives\n",
    "\n",
    "$$0 \\le 2^k a + \\frac n {2^{k+2}a} - \\sqrt n < \\frac{2^k}a. \\tag5$$"
   ]
  },
  {
   "cell_type": "markdown",
   "metadata": {},
   "source": [
    "To proceed we need a lower bound on $a$. From the definitions of $c$ and $k$ we have $4^c \\le n$ and $2k \\le c - 1$, so\n",
    "\n",
    "$$ 4^{2k + 1} \\le n. \\tag6$$\n"
   ]
  },
  {
   "cell_type": "markdown",
   "metadata": {},
   "source": [
    "Dividing by $4^{k+1}$, taking floors, and combining with the right-hand side of (1),\n",
    "\n",
    "$$4^k \\le \\left\\lfloor \\frac n{4^{k+1}} \\right\\rfloor < (a + 1)^2. \\tag7$$"
   ]
  },
  {
   "cell_type": "markdown",
   "metadata": {},
   "source": [
    "Taking the square root of both sides of (7) gives $2^k < a + 1$, and since both $2^k$ and $a + 1$ are integers this implies\n",
    "\n",
    "$$2^k \\le a. \\tag8$$"
   ]
  },
  {
   "cell_type": "markdown",
   "metadata": {},
   "source": [
    "Now combining (5) with (8) gives\n",
    "\n",
    "$$ 0 \\le 2^k a + \\frac n {2^{k+2}a} - \\sqrt n < 1 \\tag9$$"
   ]
  },
  {
   "cell_type": "markdown",
   "metadata": {},
   "source": [
    "and taking the floor gives\n",
    "\n",
    "$$ -1 < 2^k a + \\left\\lfloor\\frac n{2^{k+2}a}\\right\\rfloor - \\sqrt n < 1 \\tag{10}$$\n",
    "\n",
    "or in terms of $d$,\n",
    "\n",
    "$$ -1 < d - \\sqrt n < 1. \\tag{11}$$\n",
    "\n",
    "\n",
    "That says that $d$ is within $1$ of the exact square root of $n$, which is exactly what we needed to prove."
   ]
  },
  {
   "cell_type": "code",
   "execution_count": null,
   "metadata": {},
   "outputs": [],
   "source": []
  }
 ],
 "metadata": {
  "kernelspec": {
   "display_name": "Python 3",
   "language": "python",
   "name": "python3"
  },
  "language_info": {
   "codemirror_mode": {
    "name": "ipython",
    "version": 3
   },
   "file_extension": ".py",
   "mimetype": "text/x-python",
   "name": "python",
   "nbconvert_exporter": "python",
   "pygments_lexer": "ipython3",
   "version": "3.7.3"
  }
 },
 "nbformat": 4,
 "nbformat_minor": 2
}
