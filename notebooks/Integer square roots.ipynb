{
 "cells": [
  {
   "cell_type": "markdown",
   "metadata": {},
   "source": [
    "# Computing integer square roots"
   ]
  },
  {
   "cell_type": "markdown",
   "metadata": {},
   "source": [
    "**Definition.** Given a nonnegative integer $n$, the greatest integer $a$ such that $a^2\\le n$ is the **integer square root** of $n$.\n",
    "\n",
    "Less formally, the integer square root of $n$ is simply the integer part of the square root of $n$. For example, if $n = 23$, the square root of $n$ is\n",
    "\n",
    "$$\\sqrt{23} = 4.7958315233127195415974380641626939199967070419041293...$$\n",
    "    \n",
    "so the integer square root of $23$ is $4$.\n",
    "\n",
    "This notebook presents and compares various methods for computing the integer square root in Python. In particular, we present a simple (and apparently new) adaptive-precision pure-integer-based method based on Newton-Raphson."
   ]
  },
  {
   "cell_type": "markdown",
   "metadata": {},
   "source": [
    "## Floating-point-based algorithms"
   ]
  },
  {
   "cell_type": "markdown",
   "metadata": {},
   "source": [
    "The following implementation seems obvious, but has some problems. Python's `math` module has a `sqrt` function which gives a floating-point approximation to the square root of its input. So we can simply call `sqrt` and then extract and return the integer part."
   ]
  },
  {
   "cell_type": "code",
   "execution_count": 1,
   "metadata": {},
   "outputs": [],
   "source": [
    "import math\n",
    "\n",
    "def isqrt(n):\n",
    "    \"\"\"Integer square root of a positive integer; float-based algorithm.\"\"\"\n",
    "    return int(math.sqrt(n))"
   ]
  },
  {
   "cell_type": "markdown",
   "metadata": {},
   "source": [
    "This is fast and simple, and seems to work well for small integers:"
   ]
  },
  {
   "cell_type": "code",
   "execution_count": 2,
   "metadata": {},
   "outputs": [
    {
     "data": {
      "text/plain": [
       "3"
      ]
     },
     "execution_count": 2,
     "metadata": {},
     "output_type": "execute_result"
    }
   ],
   "source": [
    "isqrt(11)"
   ]
  },
  {
   "cell_type": "code",
   "execution_count": 3,
   "metadata": {},
   "outputs": [
    {
     "data": {
      "text/plain": [
       "5"
      ]
     },
     "execution_count": 3,
     "metadata": {},
     "output_type": "execute_result"
    }
   ],
   "source": [
    "isqrt(25)"
   ]
  },
  {
   "cell_type": "code",
   "execution_count": 4,
   "metadata": {},
   "outputs": [
    {
     "data": {
      "text/plain": [
       "9"
      ]
     },
     "execution_count": 4,
     "metadata": {},
     "output_type": "execute_result"
    }
   ],
   "source": [
    "isqrt(99)"
   ]
  },
  {
   "cell_type": "markdown",
   "metadata": {},
   "source": [
    "However, this implementation of `isqrt` will fail for larger values. For example, the following will give the wrong result on a typical machine."
   ]
  },
  {
   "cell_type": "code",
   "execution_count": 5,
   "metadata": {},
   "outputs": [
    {
     "data": {
      "text/plain": [
       "False"
      ]
     },
     "execution_count": 5,
     "metadata": {},
     "output_type": "execute_result"
    }
   ],
   "source": [
    "n = 2**52 + 2**27\n",
    "a = isqrt(n)  # one too large\n",
    "a*a <= n"
   ]
  },
  {
   "cell_type": "markdown",
   "metadata": {},
   "source": [
    "The problem here is that the exact square root is just slightly smaller than `2**26 + 1`; the difference between the exact square root and `2**26 + 1` is a touch smaller than `2**-27`. Since the exact square root is not exactly representable as a float, it gets rounded to the nearest value that *is* exactly representable as a float, and in this case that value happens to be `2**26 + 1`.\n",
    "\n",
    "The exact threshold at which things start to go wrong will depend on the floating-point format in use together with the accuracy of `math.sqrt`, but assuming IEEE 754 binary64 floating-point, round-ties-to-even rounding mode, and a correctly rounded `math.sqrt`, the above `n` is the smallest for which the wrong result will be returned."
   ]
  },
  {
   "cell_type": "markdown",
   "metadata": {},
   "source": [
    "Sketch of proof: suppose that we're working with a binary floating-point format with precision $p$, and that $4^{k - 1} \\le n < 4^k$ with $2k \\le p$. Write $a$ for the integer square root of $n$, so $2^{k-1} \\le a < 2^k$. Then from the bound on $k$,\n",
    "\n",
    "$$ a < 2^{p-k}\\tag1$$ \n",
    "\n",
    "from which it follows easily that\n",
    "\n",
    "$$ a + 1 + \\sqrt{a^2 + 2a} < 2^{p-k+1}\\tag4$$\n",
    "\n",
    "Inverting and rearranging gives\n",
    "\n",
    "$$ \\sqrt{a^2 + 2a} < a + 1 - 2^{k-p-1}\\tag5$$\n",
    "\n",
    "Hence\n",
    "\n",
    "$$ a \\le \\sqrt{n} \\le \\sqrt{a^2 + 2a} < a + 1 - 2^{k-p-1}\\tag6$$\n",
    "\n",
    "The spacing between successive floats in the interval $[2^{k-1}, 2^k]$ is $2^{k-p}$. So under round-ties-to-even, $a + 1 - 2^{k-p-1}$ is the least value which will round up to $a+1$, so $\\sqrt{n}$ must round to a value smaller than $a+1$. Since $a$ is exactly representable, $\\sqrt{n}$ can't round to something smaller than $a$. So the integer part of the rounded $\\sqrt{n}$ will be exactly $a$.\n",
    "\n",
    "For the particular case of the IEEE 754 binary64 format, we have $p = 53$, and so the above tells us that `int(sqrt(n))` will give the correct result for any $n < 2^{52}$.\n",
    "\n",
    "For the rest, it's easy to verify that if $n = 2^{52} + 2^{27} - 1$ then `int(sqrt(n))` is $2^{26}$, and so this must also be true for all values between $2^{52}$ and $2^{52} + 2^{27} - 1$. It's also easy to verify that for $n = 2^{52} + 2^{27}$, $\\sqrt{n}$ rounds up to $2^{26} + 1$.\n"
   ]
  },
  {
   "cell_type": "markdown",
   "metadata": {},
   "source": [
    "The following also fails, because $2^{1024}$ exceeds the range of an IEEE 754 binary64 float."
   ]
  },
  {
   "cell_type": "code",
   "execution_count": 6,
   "metadata": {},
   "outputs": [
    {
     "name": "stdout",
     "output_type": "stream",
     "text": [
      "OverflowError('int too large to convert to float')\n"
     ]
    }
   ],
   "source": [
    "n = 2**1024\n",
    "try:\n",
    "    isqrt(n)\n",
    "except Exception as e:\n",
    "    print(repr(e))"
   ]
  },
  {
   "cell_type": "markdown",
   "metadata": {},
   "source": [
    "There's a more subtle problem: if `math.sqrt` isn't perfectly correctly rounded, the `isqrt` implementation risks giving bad answers even for small inputs. For example, if `math.sqrt(9)` happens to give `2.9999999999999996` instead of exactly `3.0`, then `isqrt(9)` will give `2` instead of `3`. The chances are extremely good that your implementation of `math.sqrt` _is_ correctly rounded, but Python provides no guarantees. If you're worried about this, a safer option is:"
   ]
  },
  {
   "cell_type": "code",
   "execution_count": 7,
   "metadata": {},
   "outputs": [],
   "source": [
    "def isqrt(n):\n",
    "    \"\"\" Integer square root via floating-point.\n",
    "    \n",
    "    More tolerant of numeric errors than the simple version.\n",
    "    \"\"\"\n",
    "    return int(math.sqrt(n + 0.5))"
   ]
  },
  {
   "cell_type": "code",
   "execution_count": 8,
   "metadata": {},
   "outputs": [
    {
     "data": {
      "text/plain": [
       "3"
      ]
     },
     "execution_count": 8,
     "metadata": {},
     "output_type": "execute_result"
    }
   ],
   "source": [
    "isqrt(9)"
   ]
  },
  {
   "cell_type": "markdown",
   "metadata": {},
   "source": [
    "But this still fails for larger values, just like our original function does. If we want a general solution, we need to work harder."
   ]
  },
  {
   "cell_type": "markdown",
   "metadata": {},
   "source": [
    "**Analysis.** Suppose again that we're working with precision-$p$ binary floating-point, and that $4^{k-1} \\le n < 4^{k}$ for some $k$. We also assume that $n < 2^{p-1}$, so that $n + 0.5$ can be represented exactly as a floating-point number. Write $a$ for the integer square root of $n$, so $2^{k-1} \\le a < 2^{k}$, $a^2 \\le n \\le a^2 + 2a$, and the spacing between successive floats in $[2^{k-1}, 2^k]$ is $2^{k-p}$.\n",
    "\n",
    "Then\n",
    "\n",
    "$$\n",
    "2^{k-1}\\le a < \\sqrt{a^2 + \\frac12}\n",
    "             \\le \\sqrt{n + \\frac12}\n",
    "             \\le \\sqrt{a^2 + 2a + \\frac12}\n",
    "             < a + 1 \\le 2^k.\n",
    "$$\n",
    "\n",
    "and it's easy to show that\n",
    "\n",
    "$$ \\sqrt{a^2 + \\frac12} - a > 2^{-k-2} $$\n",
    "and\n",
    "$$ a + 1 - \\sqrt{a^2 + 2a + \\frac12} > 2^{-k-2}.$$\n",
    "\n",
    "It follows that if the error in computing $\\sqrt{n + \\frac12}$ using `math.sqrt` is bounded by $2^{-k-2}$, then the above method will give the correct result. So it's enough that `math.sqrt` is accurate to within $2^{p - 2k - 2}$ units in the last place.\n",
    "\n",
    "Turning this around, if `math.sqrt` is uniformly accurate to within $2^e$ units in the last place, then the above method will give accurate results for $n$ up to $4^{\\left\\lfloor(p - e - 2) / 2\\right\\rfloor}$. In the special case where $e = -1$ (correct rounding) and $p = 53$ (IEEE 754 binary64 format), this shows that the method above continues to give correct results for all $n < 2^{52}$, so is comparable to the previous method.\n",
    "\n",
    "Assuming a correctly rounded `math.sqrt` and IEEE 754 binary64 floating-point, the smallest $n$ for which things fail is $n = 2^{52} + 2^{27} - 1$, one smaller than for the previous algorithm. In this case, $n + 0.5$ is already not representable as a float, so the result of `n + 0.5` is actually equal to `n + 1`."
   ]
  },
  {
   "cell_type": "markdown",
   "metadata": {},
   "source": [
    "## Version 2: bisection search"
   ]
  },
  {
   "cell_type": "markdown",
   "metadata": {},
   "source": [
    "We can avoid floating-point entirely and use pure integer arithmetic. The following code uses a simple bisection search to identify the integer square root. To get an initial upper bound, it makes use of the fact that for any positive integer `n`, `n < 2**n.bit_length()`."
   ]
  },
  {
   "cell_type": "code",
   "execution_count": 9,
   "metadata": {},
   "outputs": [],
   "source": [
    "def isqrt(n):\n",
    "    \"\"\" Integer square root via bisection search. \"\"\"\n",
    "    lower = 0\n",
    "    upper = 1 << -(-n.bit_length() // 2)\n",
    "    while upper - lower > 1:\n",
    "        midpoint = (lower + upper) // 2\n",
    "        if midpoint * midpoint <= n:\n",
    "            lower = midpoint\n",
    "        else:\n",
    "            upper = midpoint\n",
    "    return lower    "
   ]
  },
  {
   "cell_type": "markdown",
   "metadata": {},
   "source": [
    "Note: to keep the code simple, we're ignoring the case where `n` is negative. We'll do this throughout this notebook."
   ]
  },
  {
   "cell_type": "markdown",
   "metadata": {},
   "source": [
    "To make sure we haven't messed up, let's run some tests."
   ]
  },
  {
   "cell_type": "code",
   "execution_count": 10,
   "metadata": {},
   "outputs": [],
   "source": [
    "def is_isqrt(n, a):\n",
    "    \"\"\"\n",
    "    True if a is the integer square root of n.\n",
    "    \"\"\"\n",
    "    return a * a <= n < (a + 1) * (a + 1)\n",
    "\n",
    "def test_isqrt():\n",
    "    assert all(is_isqrt(n, isqrt(n)) for n in range(10**6))\n",
    "    assert isqrt(2**1024 - 1) == 2**512 - 1\n",
    "    assert isqrt(2**1024 + 1) == 2**512    "
   ]
  },
  {
   "cell_type": "code",
   "execution_count": 11,
   "metadata": {},
   "outputs": [],
   "source": [
    "test_isqrt()"
   ]
  },
  {
   "cell_type": "markdown",
   "metadata": {},
   "source": [
    "This algorithm is simple, and its correctness is easy to verify. But it's a bit on the slow side when ``n`` gets large. Let's set up some timings. We'll use 1000 different randomly-chosen 1000-digit integers for profiling."
   ]
  },
  {
   "cell_type": "code",
   "execution_count": 12,
   "metadata": {},
   "outputs": [],
   "source": [
    "import random\n",
    "random.seed(56176)\n",
    "profile_values = [random.randrange(10**1000) for _ in range(1000)]\n",
    "\n",
    "def profile_isqrt():\n",
    "    return [isqrt(n) for n in profile_values]"
   ]
  },
  {
   "cell_type": "code",
   "execution_count": 13,
   "metadata": {},
   "outputs": [
    {
     "name": "stdout",
     "output_type": "stream",
     "text": [
      "3.98 s ± 140 ms per loop (mean ± std. dev. of 7 runs, 1 loop each)\n"
     ]
    }
   ],
   "source": [
    "%timeit profile_isqrt()"
   ]
  },
  {
   "cell_type": "markdown",
   "metadata": {},
   "source": [
    "Can we do better? Yes. We. Can."
   ]
  },
  {
   "cell_type": "markdown",
   "metadata": {},
   "source": [
    "## Version 3: Newton's method"
   ]
  },
  {
   "cell_type": "markdown",
   "metadata": {},
   "source": [
    "The one-dimensional version of the Newton-Raphson method says that if $f$ is a real-valued function of a real input, and $x_0$ is sufficiently close to a root of $f$, then under some well-behavedness assumptions on $f$ (see below),\n",
    "\n",
    "$$x_1 = x_0 - \\frac{f(x_0)}{f'(x_0)}$$\n",
    "\n",
    "will be a better approximation to the root. Iterating then gives quadratic convergence to the root: the number of valid decimal digits approximately doubles at each step.\n",
    "\n",
    "If $n$ is a positive real number and $f$ is the function given by $f(x) = x^2 - n$, then a root of $f$ is a square root of $n$, convergence is guaranteed from any nonzero starting value, and the formula becomes:\n",
    "\n",
    "$$x_1 = \\frac12 \\left(x_0 + \\frac n{x_0}\\right)$$"
   ]
  },
  {
   "cell_type": "markdown",
   "metadata": {},
   "source": [
    "**Small print.** About those well-behavedness assumptions: it's enough for example that $f$ is twice continuously differentiable in a neighbourhood of the root, and that $f'$ doesn't vanish at the root."
   ]
  },
  {
   "cell_type": "markdown",
   "metadata": {},
   "source": [
    "A variant of this gives an efficient pure-integer algorithm for integer square roots, though getting the termination condition right is delicate."
   ]
  },
  {
   "cell_type": "code",
   "execution_count": 14,
   "metadata": {},
   "outputs": [],
   "source": [
    "def isqrt(n):\n",
    "    \"\"\"\n",
    "    Integer square root, via Newton's algorithm.\n",
    "    \"\"\"\n",
    "    # Need to special-case zero.\n",
    "    if n == 0:\n",
    "        return 0\n",
    "    \n",
    "    # The initial guess must not be less than isqrt(n).\n",
    "    a = 1 << -(-n.bit_length() // 2)\n",
    "    while True:\n",
    "        d = n // a\n",
    "        if d >= a:\n",
    "            return a\n",
    "        a = (a + d) // 2"
   ]
  },
  {
   "cell_type": "markdown",
   "metadata": {},
   "source": [
    "Let's run our tests, and profile as before."
   ]
  },
  {
   "cell_type": "code",
   "execution_count": 15,
   "metadata": {},
   "outputs": [
    {
     "name": "stdout",
     "output_type": "stream",
     "text": [
      "54.9 ms ± 1.3 ms per loop (mean ± std. dev. of 7 runs, 10 loops each)\n"
     ]
    }
   ],
   "source": [
    "test_isqrt()\n",
    "%timeit profile_isqrt()"
   ]
  },
  {
   "cell_type": "markdown",
   "metadata": {},
   "source": [
    "Newton's method roughly doubles the number of accurate bits at each step. So if `isqrt(n)` has `k` bits, the last step might double accuracy from `k//2` bits to `k` bits, while the first few steps double us from `1` bit to `2` bits, or `2` bits to `4` bits of accuracy. But each iteration is being performed at full precision, with a `2*k`-bit by `k`-bit division. That's wasteful during the initial steps.\n",
    "\n",
    "Instead of this, we can gradually increase the working precision as we go, reaching full precision only in the final step. This leads to the following recursive algorithm, still based on Newton's method."
   ]
  },
  {
   "cell_type": "code",
   "execution_count": 16,
   "metadata": {},
   "outputs": [],
   "source": [
    "def isqrt_aux(n, c, s):\n",
    "    \"\"\"\n",
    "    Approximate integer square root of a positive integer.\n",
    "    \n",
    "    On input, c must be floor(log4(n >> s)); that is, one less than\n",
    "    the number of digits in the base-4 expansion of n >> s.\n",
    "\n",
    "    The return value a satisfies (a - 1)**2 < n >> s < (a + 1)**2. In\n",
    "    particular, if n is a perfect square and s == 0, the returned value is\n",
    "    the exact square root of n.\n",
    "    \"\"\"\n",
    "    if not c:\n",
    "        return 1\n",
    "    k = (c - 1) // 2\n",
    "    a = isqrt_aux(n, c // 2, s + 2*k + 2)\n",
    "    return (a << k) + (n >> s+k+2) // a\n",
    "\n",
    "\n",
    "def isqrt(n):\n",
    "    \"\"\"\n",
    "    Integer square root of a nonnegative integer.\n",
    "    \"\"\"\n",
    "    if n == 0:\n",
    "        return 0\n",
    "    a = isqrt_aux(n, (n.bit_length() - 1) // 2, 0)\n",
    "    return a - (a*a > n)"
   ]
  },
  {
   "cell_type": "code",
   "execution_count": 17,
   "metadata": {},
   "outputs": [
    {
     "name": "stdout",
     "output_type": "stream",
     "text": [
      "11.1 ms ± 72.1 µs per loop (mean ± std. dev. of 7 runs, 100 loops each)\n"
     ]
    }
   ],
   "source": [
    "test_isqrt()\n",
    "%timeit profile_isqrt()"
   ]
  },
  {
   "cell_type": "markdown",
   "metadata": {},
   "source": [
    "For a slight extra speed boost, if you trust that `math.sqrt` on your system _is_ correctly rounded, and you know that the system uses the standard IEEE 754 binary64 format for its `float`s, then you can use a floating-point approximation once `n` gets small enough, and so terminate the recursion earlier. It's possible to prove that with these assumptions, if `0 < n < 2**106`, then `int(math.sqrt(n))` differs from the true square root of `n` by less than `1.0`. Here's the new `isqrt_aux` definition in that case; we keep the same `isqrt` as before."
   ]
  },
  {
   "cell_type": "code",
   "execution_count": 18,
   "metadata": {},
   "outputs": [],
   "source": [
    "def isqrt_aux(n, c):\n",
    "    \"\"\"\n",
    "    Approximate integer square root of a positive integer.\n",
    "    \n",
    "    On input, c must be floor(log4(n)); that is, one less than\n",
    "    the number of digits in the base-4 expansion of c\n",
    "\n",
    "    The return value a satisfies (a - 1)**2 < n < (a + 1)**2. In\n",
    "    particular, if n is a perfect square, the returned value is\n",
    "    the exact square root of n.\n",
    "    \"\"\"\n",
    "    if c < 53:\n",
    "        return int(math.sqrt(n))\n",
    "    k = (c - 1) // 2\n",
    "    a = isqrt_aux(n >> 2*k + 2, c // 2)\n",
    "    return (a << k) + (n >> k+2) // a\n",
    "\n",
    "def isqrt(n):\n",
    "    \"\"\"\n",
    "    Integer square root of a nonnegative integer.\n",
    "    \"\"\"\n",
    "    if n == 0:\n",
    "        return 0\n",
    "    a = isqrt_aux(n, (n.bit_length() - 1) // 2)\n",
    "    return a - (a*a > n)"
   ]
  },
  {
   "cell_type": "code",
   "execution_count": 19,
   "metadata": {},
   "outputs": [
    {
     "name": "stdout",
     "output_type": "stream",
     "text": [
      "9.66 ms ± 363 µs per loop (mean ± std. dev. of 7 runs, 100 loops each)\n"
     ]
    }
   ],
   "source": [
    "test_isqrt()\n",
    "%timeit profile_isqrt()"
   ]
  },
  {
   "cell_type": "markdown",
   "metadata": {},
   "source": [
    "Here's an iterative version of the above. It scans the bits of `c` from left to right, and performs one big-integer division, one big-integer addition and two big-integer shifts per iteration, plus a final big-integer multiplication and comparison. All other operations are with small integers."
   ]
  },
  {
   "cell_type": "code",
   "execution_count": 20,
   "metadata": {},
   "outputs": [],
   "source": [
    "import operator\n",
    "\n",
    "def isqrt(n):\n",
    "    \"\"\"\n",
    "    Return the largest integer not exceeding the square root of the input.\n",
    "    \"\"\"\n",
    "    if n == 0:\n",
    "        return 0\n",
    "\n",
    "    c = (n.bit_length() - 1) // 2\n",
    "    d = 0\n",
    "    a = 1\n",
    "    for s in reversed(range(c.bit_length())):\n",
    "        e = d\n",
    "        d = c >> s\n",
    "        a = (a << d - e - 1) + (n >> 2*c - e - d + 1) // a\n",
    "        # Loop invariant: (a-1)**2 < n >> 2*(c - d) < (a+1)**2\n",
    "        \n",
    "    return a - (a*a > n)"
   ]
  },
  {
   "cell_type": "code",
   "execution_count": 21,
   "metadata": {},
   "outputs": [
    {
     "name": "stdout",
     "output_type": "stream",
     "text": [
      "10.7 ms ± 50.6 µs per loop (mean ± std. dev. of 7 runs, 100 loops each)\n"
     ]
    }
   ],
   "source": [
    "test_isqrt()\n",
    "%timeit profile_isqrt()"
   ]
  },
  {
   "cell_type": "markdown",
   "metadata": {},
   "source": [
    "If we're going to code this up for CPython, we'll likely want a fast path for small integers. Suppose that $2^{62} \\le n < 2^{64}$. Then in the above iterative version, `c` starts at `31`, and unwinding the loop gives the following code."
   ]
  },
  {
   "cell_type": "code",
   "execution_count": 22,
   "metadata": {},
   "outputs": [],
   "source": [
    "def isqrt_small(n):\n",
    "    assert 0 < n < 2**64\n",
    "    # Shift left to make sure we're in range 2**62 <= n < 2**64\n",
    "    c = (n.bit_length() - 1) // 2\n",
    "    \n",
    "    n <<= 62 - 2*c\n",
    "\n",
    "    a = 1 + (n >> 62)  # 2 <= a <= 4, a**2 ≈ n >> 60\n",
    "    a = (a << 1) + (n >> 59) // a  # 8 <= a <= 16, a**2 ≈ n >> 56\n",
    "    a = (a << 3) + (n >> 53) // a  # 128 <= a <= 256, a**2 ≈ n >> 48\n",
    "    a = (a << 7) + (n >> 41) // a  # 2^15 <= a <= 2^16, a**2 ≈ n >> 32\n",
    "    a = (a << 15) + (n >> 17) // a  # 2^31 <= a <= 2^32, a**2 ≈ n\n",
    "\n",
    "    a -= a * a - 1 >= n\n",
    "    return a >> 31 - c;\n"
   ]
  },
  {
   "cell_type": "code",
   "execution_count": 23,
   "metadata": {},
   "outputs": [],
   "source": [
    "test_values = [\n",
    "    random.randrange(4**k, 4**(k+1))\n",
    "    for k in range(32)\n",
    "    for _ in range(10**4)\n",
    "]\n",
    "for n in test_values:\n",
    "    assert isqrt_small(n) == isqrt(n)"
   ]
  },
  {
   "cell_type": "markdown",
   "metadata": {},
   "source": [
    "There's a potentially annoying corner case in the above that will affect attempts to translate this to C: at the last step, `a` could be `2**32` (but no bigger), in which case `a * a` will overflow in 64-bit integer arithmetic, leading to the comparison of `a * a` with `n` to give the wrong result. But it should be enough to compare `a * a - 1` with `n` instead (using `>=` instead of `>`).\n"
   ]
  },
  {
   "cell_type": "markdown",
   "metadata": {},
   "source": [
    "### Informal proof of correctness"
   ]
  },
  {
   "cell_type": "markdown",
   "metadata": {},
   "source": [
    "It's far from obvious that this recursive square root algorithm is valid. Some of the details are straightforward, like verifying the base case; here we concentrate on the hard part, which is verifying that the desired accuracy is preserved in the recursive step. For convenience, we rewrite the Python expressions in mathematical notation.\n",
    "\n",
    "In the recursive step, we have a positive integer $n$, a positive integer $c = \\left\\lfloor \\log_4(n) \\right\\rfloor$, and a value $k = \\left\\lfloor \\frac{c-1}2\\right\\rfloor$. We call `isqrt_aux(n >> 2*k + 2, c//2)` to get an approximation $a$ to the square root of $\\left\\lfloor\\frac n {4^{k+1}}\\right\\rfloor$. We can assume that the output of the recursive call is accurate, satisfying:\n",
    "\n",
    "$$(a-1)^2 < \\left\\lfloor \\frac n{4^{k+1}}\\right\\rfloor < (a + 1)^2 \\tag1$$\n",
    "\n",
    "and we return a value $d$ defined by\n",
    "\n",
    "$$d = 2^k a + \\left\\lfloor\\frac n{2^{k+2}a}\\right\\rfloor. \\tag2$$\n",
    "\n",
    "We need to show that $d$ is within $1$ of the square root of $n$; i.e., that $(d - 1)^2 < n < (d + 1)^2$."
   ]
  },
  {
   "cell_type": "markdown",
   "metadata": {},
   "source": [
    "Since $(a+1)^2$ is an integer, we can remove the floor brackets in (1) to get:\n",
    "\n",
    "$$(a-1)^2 < \\frac n{4^{k+1}} < (a + 1)^2. \\tag3$$"
   ]
  },
  {
   "cell_type": "markdown",
   "metadata": {},
   "source": [
    "Taking square roots in (3), noting that $a$ cannot be zero, so we must have $a \\ge 1$, and rearranging gives\n",
    "\n",
    "$$ \\left|\\, 2^{k+1}a - \\sqrt n\\, \\right| < 2^{k+1}. \\tag4$$\n"
   ]
  },
  {
   "cell_type": "markdown",
   "metadata": {},
   "source": [
    "Now squaring both sides and dividing by $2^{k+2} a$ gives\n",
    "\n",
    "$$0 \\le 2^k a + \\frac n {2^{k+2}a} - \\sqrt n < \\frac{2^k}a. \\tag5$$"
   ]
  },
  {
   "cell_type": "markdown",
   "metadata": {},
   "source": [
    "To proceed we need a lower bound on $a$. From the definitions of $c$ and $k$ we have $4^c \\le n$ and $2k \\le c - 1$, so\n",
    "\n",
    "$$ 4^{2k + 1} \\le n. \\tag6$$\n"
   ]
  },
  {
   "cell_type": "markdown",
   "metadata": {},
   "source": [
    "Dividing by $4^{k+1}$, taking floors, and combining with the right-hand side of (1),\n",
    "\n",
    "$$4^k \\le \\left\\lfloor \\frac n{4^{k+1}} \\right\\rfloor < (a + 1)^2. \\tag7$$"
   ]
  },
  {
   "cell_type": "markdown",
   "metadata": {},
   "source": [
    "Taking the square root of both sides of (7) gives $2^k < a + 1$, and since both $2^k$ and $a + 1$ are integers this implies\n",
    "\n",
    "$$2^k \\le a. \\tag8$$"
   ]
  },
  {
   "cell_type": "markdown",
   "metadata": {},
   "source": [
    "Now combining (5) with (8) gives\n",
    "\n",
    "$$ 0 \\le 2^k a + \\frac n {2^{k+2}a} - \\sqrt n < 1 \\tag9$$"
   ]
  },
  {
   "cell_type": "markdown",
   "metadata": {},
   "source": [
    "and taking the floor gives\n",
    "\n",
    "$$ -1 < 2^k a + \\left\\lfloor\\frac n{2^{k+2}a}\\right\\rfloor - \\sqrt n < 1 \\tag{10}$$\n",
    "\n",
    "or in terms of $d$,\n",
    "\n",
    "$$ -1 < d - \\sqrt n < 1. \\tag{11}$$\n",
    "\n",
    "\n",
    "That says that $d$ is within $1$ of the exact square root of $n$, which is exactly what we needed to prove."
   ]
  },
  {
   "cell_type": "code",
   "execution_count": null,
   "metadata": {},
   "outputs": [],
   "source": []
  }
 ],
 "metadata": {
  "kernelspec": {
   "display_name": "Python 3",
   "language": "python",
   "name": "python3"
  },
  "language_info": {
   "codemirror_mode": {
    "name": "ipython",
    "version": 3
   },
   "file_extension": ".py",
   "mimetype": "text/x-python",
   "name": "python",
   "nbconvert_exporter": "python",
   "pygments_lexer": "ipython3",
   "version": "3.7.3"
  }
 },
 "nbformat": 4,
 "nbformat_minor": 2
}
